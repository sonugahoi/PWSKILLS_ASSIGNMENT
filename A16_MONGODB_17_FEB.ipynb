{
 "cells": [
  {
   "attachments": {},
   "cell_type": "markdown",
   "metadata": {},
   "source": [
    "## Question 1: What is MongoDB? Explain non-relational databases in short. In which scenarios it is preferred to use MongoDB over SQL databases?\n",
    "---\n"
   ]
  },
  {
   "attachments": {},
   "cell_type": "markdown",
   "metadata": {},
   "source": [
    "## Answer :\n",
    "\n",
    "MongoDB is a popular open-source NoSQL database system that stores data in a document-oriented format. Instead of using tables and rows like in traditional relational databases, MongoDB stores data in documents that are organized into collections. These documents can contain a variety of data types, such as arrays and nested documents, and can be easily updated and queried.These documents are stored in bson (binary JSON) format.\n",
    "\n",
    "Non-relational databases, also known as NoSQL databases, are databases that do not use the traditional table-based relational database model. Instead, they use different data models, such as key-value, document-oriented, or graph-based, to store and organize data. Non-relational databases are often used for handling large amounts of unstructured or semi-structured data, and they can be more flexible and scalable than traditional SQL databases.\n",
    "\n",
    "MongoDB is preferred over SQL databases in scenarios where:\n",
    "\n",
    "1. Flexibility and scalability are important: MongoDB is designed to be flexible and scalable, making it a good choice for handling large and complex data sets.\n",
    "\n",
    "2. Agile development: MongoDB's flexible schema allows for more agile and iterative development, as changes can be made to the database schema without requiring a complete redesign of the application.\n",
    "\n",
    "3. Big Data and real-time analytics: MongoDB is well-suited for big data and real-time analytics, as it can easily handle unstructured and semi-structured data.\n",
    "\n",
    "4. Cloud-based applications: MongoDB is often used for cloud-based applications, as it can easily scale to meet the demands of a growing user base.\n",
    "\n",
    "5. Geospatial data: MongoDB has built-in support for geospatial data, making it a popular choice for applications that involve location-based services."
   ]
  },
  {
   "attachments": {},
   "cell_type": "markdown",
   "metadata": {},
   "source": [
    "## Question 2: State and Explain the features of MongoDB.\n",
    "---"
   ]
  },
  {
   "attachments": {},
   "cell_type": "markdown",
   "metadata": {},
   "source": [
    "## Answer :\n",
    "In MongoDB, data is organized into a hierarchy of databases, collections, and documents.\n",
    "\n",
    "1. A database is a container for a set of collections, each with its own set of documents. In MongoDB, you can have multiple databases within a single MongoDB server instance.\n",
    "\n",
    "2. A collection is a group of MongoDB documents, similar to a table in a relational database. Collections are used to group related documents together and typically have a common schema, although MongoDB's flexible document model allows for some variation within a collection. Each collection within a MongoDB database is given a unique name that is used to identify and access the collection.\n",
    "\n",
    "3. A document is a set of key-value pairs that is stored within a collection. In MongoDB, a document is similar to a record in a relational database, but it is stored in a flexible and dynamic format known as BSON (Binary JSON). Each document can have its own unique structure and can include nested sub-documents and arrays."
   ]
  },
  {
   "attachments": {},
   "cell_type": "markdown",
   "metadata": {},
   "source": [
    "![MongoDB Hierarchy](https://studio3t.com/wp-content/uploads/2022/04/hierachy.png)"
   ]
  },
  {
   "attachments": {},
   "cell_type": "markdown",
   "metadata": {},
   "source": [
    "Credits for above image : [https://studio3t.com/academy/lessons/mongodb-basics/](https://studio3t.com/academy/lessons/mongodb-basics/)"
   ]
  },
  {
   "attachments": {},
   "cell_type": "markdown",
   "metadata": {},
   "source": [
    "These are some important features of MongoDB:\n",
    "\n",
    "1. Support ad hoc queries - In MongoDB, you can search by field, range query and it also supports regular expression searches.\n",
    "\n",
    "2. Indexing - You can index any field in a document.\n",
    "\n",
    "3. Replication - MongoDB supports Master Slave replication. A master can perform Reads and Writes and a Slave copies data from the master and can only be used for reads or back up (not writes)\n",
    "\n",
    "4. Duplication of data - MongoDB can run over multiple servers. The data is duplicated to keep the system up and also keep its running condition in case of hardware failure.\n",
    "\n",
    "5. Load balancing - It has an automatic load balancing configuration because of data placed in shards.\n",
    "\n",
    "6. Supports map reduce and aggregation tools.\n",
    "\n",
    "7. Uses JavaScript instead of Procedures.\n",
    "\n",
    "8. It is a schema-less database written in C++.\n",
    "\n",
    "9. Provides high performance.\n",
    "\n",
    "10. Stores files of any size easily without complicating your stack.\n",
    "\n",
    "11. Easy to administer in the case of failures.\n",
    "\n",
    "12. It also supports:\n",
    "    * JSON data model with dynamic schemas\n",
    "    * Auto-sharding for horizontal scalability\n",
    "    * Built in replication for high availability"
   ]
  },
  {
   "attachments": {},
   "cell_type": "markdown",
   "metadata": {},
   "source": [
    "## Question 5: Explain how you can use the find() method to query the MongoDB database. Write a simple code to demonstrate this.\n",
    "---"
   ]
  },
  {
   "attachments": {},
   "cell_type": "markdown",
   "metadata": {},
   "source": [
    "## Answer :\n",
    "\n",
    "The find() method is used to query a MongoDB database and retrieve data from a specific collection. It allows you to search for documents in the collection that match a specific set of criteria, such as a particular value in a field, a range of values, or a regular expression pattern.\n",
    "\n",
    "The find() method takes an optional query object as its argument, which defines the criteria for the search. This query object is typically constructed using a set of key-value pairs, where each key represents a field in the document and each value represents the value to search for in that field. The find() method returns a cursor to the resulting documents, which can be iterated over to access the data."
   ]
  },
  {
   "attachments": {},
   "cell_type": "markdown",
   "metadata": {},
   "source": [
    "## Question 6: Explain the sort() method. Give an example to demonstrate sorting in MongoDB.\n",
    "---"
   ]
  },
  {
   "attachments": {},
   "cell_type": "markdown",
   "metadata": {},
   "source": [
    "## Answer :\n",
    "\n",
    "The sort() method in pymongo is used to sort the results of a query in MongoDB. It allows you to specify one or more fields to sort by, as well as the order in which to sort them (ascending or descending).\n"
   ]
  }
 ],
 "metadata": {
  "kernelspec": {
   "display_name": "venv",
   "language": "python",
   "name": "python3"
  },
  "language_info": {
   "codemirror_mode": {
    "name": "ipython",
    "version": 3
   },
   "file_extension": ".py",
   "mimetype": "text/x-python",
   "name": "python",
   "nbconvert_exporter": "python",
   "pygments_lexer": "ipython3",
   "version": "3.10.7"
  },
  "orig_nbformat": 4,
  "vscode": {
   "interpreter": {
    "hash": "27149e82490bdaa27222c4e29544e396278d224a9f42010d392c3451ce079b12"
   }
  }
 },
 "nbformat": 4,
 "nbformat_minor": 2
}
