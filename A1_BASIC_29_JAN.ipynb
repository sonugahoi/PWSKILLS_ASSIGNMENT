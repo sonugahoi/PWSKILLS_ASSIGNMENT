{
 "cells": [
  {
   "cell_type": "markdown",
   "metadata": {},
   "source": [
    "Question 1 – Who developed python programming language ?    \n",
    "\n",
    "Ans- Guido van Rossum is a Dutch programmer best known as the creator of the Python programming language.\n"
   ]
  },
  {
   "cell_type": "markdown",
   "metadata": {},
   "source": [
    "Question 2 – Which type of programming does python support ?\n",
    "\n",
    "Python is a multi-paradigm programming language. \n",
    "\n",
    "Object-oriented programming and structured programming are fully supported, and many of their features support functional programming and aspect-oriented programming (including metaprogramming and metaobjects).\n"
   ]
  },
  {
   "cell_type": "markdown",
   "metadata": {},
   "source": [
    "Question 3 – Is python case sensitive when  dealing with identifiers ?\n",
    "\n",
    "Yes, Python is a case-sensitive language, i.e., it treats uppercase and lowercase characters differently. \n",
    "\n",
    "This applies to identifiers too. \n",
    "\n",
    "You must avoid using the same name with different cases while naming identifiers.\n"
   ]
  },
  {
   "cell_type": "markdown",
   "metadata": {},
   "source": [
    "Question 4 – what is correct extension of python file ?\n",
    "\n",
    ".py is correct extension of python file\n",
    "\n",
    ".ipynb (interactive python notebook) is extension for Jupyter Notebooks\n"
   ]
  },
  {
   "cell_type": "markdown",
   "metadata": {},
   "source": [
    "Question 5 – Is python code compiled or interpreted?\n",
    "\n",
    "\n",
    "Python is an interpreted language, which means the source code of a Python program is converted into bytecode that is then executed by the Python virtual machine. \n",
    "\n",
    "Python is different from major compiled languages, such as C and C + +, as Python code is not required to be built and linked like code for these languages.\n",
    "\n"
   ]
  },
  {
   "cell_type": "markdown",
   "metadata": {},
   "source": [
    "Question 6 – Name a few block of code used to define in python language ?\n",
    "\n",
    "Indentation is used to define a block of code in python. \n",
    "\n",
    "Braces {} are used to define a block of code in most programming languages, like C, C++, and Java. \n",
    "\n",
    "But this indentation makes python unique among all programming languages.\n",
    "\n"
   ]
  },
  {
   "cell_type": "markdown",
   "metadata": {},
   "source": [
    "Question 7 – State the character used to give single line comments in python ?\n",
    "\n",
    "The Character # is used to write single line comment in python.\n"
   ]
  },
  {
   "cell_type": "markdown",
   "metadata": {},
   "source": [
    "Question 8 – mention functions which can help us find the version of python that we are currently working on ?\n",
    "\n",
    "1. Using sys.version method \n",
    " import sys\n",
    " print(\"User Current Version:-\", sys.version)\n",
    "\n",
    "2. Using python_version() function\n",
    "from platform import python_version\n",
    "print(\"Current Python Version-\", python_version())\n",
    "\n",
    "3. Method 3. Using python --V command\n",
    "Open the terminal and write below command\n",
    "python -V\n",
    "\n",
    "\n",
    "\n"
   ]
  },
  {
   "cell_type": "markdown",
   "metadata": {},
   "source": [
    "Question 9 – python supports the creation of anonymous functions at runtime using construct called  ?\n",
    "\n",
    "Python supports to make anonymous functions at runtime with a construct called \"lambda“ .\n"
   ]
  },
  {
   "cell_type": "markdown",
   "metadata": {},
   "source": [
    "Question 10 – what does pip stand for in python  ?\n",
    "\n",
    "Pip stands for : preferred installer program\n"
   ]
  },
  {
   "cell_type": "markdown",
   "metadata": {},
   "source": [
    "Question 11 – mention a few built in functions in python  ?\n",
    "\n",
    "1. print() function : prints the specified message to the screen or another standard output device.\n",
    "2. type() function : returns the type of specified object.\n",
    "3. input() function : allows taking the input from the user.\n",
    "4. dir() function : returns all the properties and methods of the specified object, without the values.\n",
    "5. max() function : returns the item with the maximum value or the item with the maximum value in an iterable.\n",
    "6. help() function : used to display the documentation of modules, functions, classes, keywords, etc.\n"
   ]
  },
  {
   "cell_type": "markdown",
   "metadata": {},
   "source": [
    "Question 12 – what is maximum possible length of an identifier in python ?\n",
    "\n",
    "An identifier can have a maximum length of 79 characters in Python.\n",
    "\n"
   ]
  },
  {
   "cell_type": "markdown",
   "metadata": {},
   "source": [
    "Question 13 – what are benefits of using python ?\n",
    "\n",
    "Third-Party Modules\n",
    "\n",
    "Python Package Index (PyPI) comprises a multitude of third-party modules which makes Python integrate with other languages and platforms easily.\n",
    "\n",
    "Presence of Libraries\n",
    "\n",
    "Python is fraught with numerous standard libraries that include string operations, internet protocols, web service tools, Machine Learning libraries, and operating System Interfaces. The presence of these libraries essentially helps in reducing the code to be written by the programmer.\n",
    "\n",
    "User-Friendly data structures\n",
    "\n",
    "With its built-in data structures, Python can easily construct run-time data structures including Arrays, Lists, tuples, and Files. \n"
   ]
  },
  {
   "cell_type": "markdown",
   "metadata": {},
   "source": [
    "Question 14 – how is memory managed in python ?\n",
    "\n",
    "Memory management in Python involves the management of a private heap. A private heap is a portion of memory that is exclusive to the Python process. All Python objects and data structures are stored in the private heap.\n",
    "\n",
    "For representational purposes, the private heap in CPython can be divided into multiple portions as shown below:\n"
   ]
  },
  {
   "cell_type": "markdown",
   "metadata": {},
   "source": [
    "Question 15 – how to install python on windows and set path variable ?\n",
    "\n",
    "Installing python \n",
    "Go to website https://www.python.org/downloads/ and complete the setup\n",
    "\n",
    "The complete path of python.exe can be added by:\n",
    "1. Right-clicking This PC and going to Properties.\n",
    "2. Clicking on the Advanced system settings in the menu on the left.\n",
    "3. Clicking on the Environment Variables button o​n the bottom right.\n",
    "4. In the System variables section, selecting the Path variable and clicking on Edit. The next screen will show all the directories that are currently a part of the PATH variable.\n",
    "5. Clicking on New and entering Python’s install directory.\n",
    "\n",
    "\n",
    "\n",
    "\n",
    "\n",
    "\n"
   ]
  },
  {
   "cell_type": "markdown",
   "metadata": {},
   "source": [
    "Question 16 –is indentation required in python?\n",
    "\n",
    "Indentation refers to the spaces at the beginning of a code line.\n",
    "Where in other programming languages the indentation in code is for readability only, the indentation in Python is very important.\n",
    "\n",
    "Python uses indentation to indicate a block of code.\n",
    "\n",
    "\n",
    "\n"
   ]
  },
  {
   "cell_type": "markdown",
   "metadata": {},
   "source": []
  }
 ],
 "metadata": {
  "language_info": {
   "name": "python"
  },
  "orig_nbformat": 4
 },
 "nbformat": 4,
 "nbformat_minor": 2
}
