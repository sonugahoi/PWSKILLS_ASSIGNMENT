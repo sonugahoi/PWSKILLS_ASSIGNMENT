{
 "cells": [
  {
   "attachments": {},
   "cell_type": "markdown",
   "metadata": {},
   "source": [
    "## Question 1: What is a database? Differentiate between SQL and NoSQL databases.\n",
    "---"
   ]
  },
  {
   "attachments": {},
   "cell_type": "markdown",
   "metadata": {},
   "source": [
    "## Answer:\n",
    "\n",
    "A database is a collection of organized data that is stored and managed on a computer system. It allows for efficient storage, retrieval, and manipulation of large amounts of data. A database system typically consists of software that manages the data, a database server that stores the data, and one or more applications that access the data.\n",
    "\n",
    "SQL (Structured Query Language) and NoSQL (Not only SQL) are two different types of database management systems that use different methods for storing and retrieving data. Here are some key differences between the two:\n",
    "\n",
    "|      Feature   | SQL databases                              | NoSQL databases                    |\n",
    "| :---------:    | :----------------------------------------  | :--------------------------------  |\n",
    "| Data model     | Relational data model                      | Flexible data model                |\n",
    "| Query language | SQL                                        | Database-specific query language   |\n",
    "| Scalability    | Vertically scalable                        | Horizontally scalable              |\n",
    "| Consistency    | Strong consistency                         | May offer weaker consistency models|\n",
    "| Usage          | Complex queries and transactions           | Fast and flexible data processing  |\n",
    "\n",
    "Here are some examples of each databases:\n",
    "1. SQL Databases:\n",
    "    * mySQL\n",
    "    * Oracle\n",
    "    * PostgreSQL\n",
    "    * Microsoft SQL Server\n",
    "    * SQLite\n",
    "2. NoSQL Databases:\n",
    "    * MongoDB (document-oriented)\n",
    "    * Cassandra (column-family)\n",
    "    * Redis (key-value)\n",
    "    * Neo4j (graph)\n",
    "    * Amazon DynamoDB (document-oriented)\n",
    "\n",
    "It's worth noting that there are many different types of NoSQL databases, each with their own strengths and weaknesses. For example, document-oriented databases like MongoDB are great for storing unstructured data such as JSON documents, while graph databases like Neo4j are ideal for modeling complex relationships between data points.\n",
    "\n",
    "Similarly, there are many different types of SQL databases, each with their own features and benefits. For example, MySQL is a popular choice for web applications due to its fast performance and scalability, while PostgreSQL is often used for data warehousing and business intelligence applications due to its advanced query optimization capabilities.\n",
    "\n",
    "Ultimately, the choice between SQL and NoSQL databases will depend on the specific requirements of your application and the type of data you need to store and process."
   ]
  },
  {
   "attachments": {},
   "cell_type": "markdown",
   "metadata": {},
   "source": [
    "<a id=\"7\"></a>\n",
    "\n",
    "# <p style=\"padding:10px;background-color:#87CEEB ;margin:10;color:#000000;font-family:newtimeroman;font-size:100%;text-align:center;border-radius: 10px 10px ;overflow:hidden;font-weight:50\">Question 7</p>"
   ]
  },
  {
   "attachments": {},
   "cell_type": "markdown",
   "metadata": {},
   "source": [
    "## Question 7: Give the order of execution of SQL clauses in an SQL query.\n",
    "---"
   ]
  },
  {
   "attachments": {},
   "cell_type": "markdown",
   "metadata": {},
   "source": [
    "## Answer: In an SQL query, the clauses are executed in the following order:\n",
    "1. FROM clause: Specifies the table or tables from which to retrieve data.\n",
    "\n",
    "2. JOIN clause: Specifies how to join multiple tables together, if needed.\n",
    "\n",
    "3. WHERE clause: Specifies which rows to retrieve based on a set of conditions.\n",
    "\n",
    "4. GROUP BY clause: Specifies how to group rows based on one or more columns.\n",
    "\n",
    "5. HAVING clause: Specifies which groups to retrieve based on a set of conditions.\n",
    "\n",
    "6. SELECT clause: Specifies which columns to retrieve.\n",
    "\n",
    "7. DISTINCT clause: Specifies to retrieve only distinct values of the specified columns.\n",
    "\n",
    "8. ORDER BY clause: Specifies how to sort the retrieved rows based on one or more columns.\n",
    "\n",
    "9. LIMIT clause: Specifies the maximum number of rows to retrieve."
   ]
  }
 ],
 "metadata": {
  "kernelspec": {
   "display_name": "venv",
   "language": "python",
   "name": "python3"
  },
  "language_info": {
   "codemirror_mode": {
    "name": "ipython",
    "version": 3
   },
   "file_extension": ".py",
   "mimetype": "text/x-python",
   "name": "python",
   "nbconvert_exporter": "python",
   "pygments_lexer": "ipython3",
   "version": "3.10.7"
  },
  "orig_nbformat": 4,
  "vscode": {
   "interpreter": {
    "hash": "27149e82490bdaa27222c4e29544e396278d224a9f42010d392c3451ce079b12"
   }
  }
 },
 "nbformat": 4,
 "nbformat_minor": 2
}
