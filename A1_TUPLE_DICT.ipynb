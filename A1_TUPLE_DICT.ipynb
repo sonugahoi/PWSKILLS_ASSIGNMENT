{
 "cells": [
  {
   "attachments": {},
   "cell_type": "markdown",
   "metadata": {},
   "source": [
    "## Assignment - Tuple, Set, & Dict"
   ]
  },
  {
   "attachments": {},
   "cell_type": "markdown",
   "metadata": {},
   "source": [
    "Q1. What are the characteristics of the tuples? Is tuple immutable?\n",
    "\n",
    "Solution - Tuples are immutable and ordered collection of items. it can store any type of data.\n",
    "    Tuple is immutable."
   ]
  },
  {
   "attachments": {},
   "cell_type": "markdown",
   "metadata": {},
   "source": [
    "Q2. What are the two tuple methods in python? Give an example of each method. Give a reason why\n",
    "tuples have only two in-built methods as compared to Lists.\n",
    "\n",
    "Solution -  Tuple has only method.  1- count function, 2- index function."
   ]
  },
  {
   "cell_type": "code",
   "execution_count": 1,
   "metadata": {},
   "outputs": [
    {
     "name": "stdout",
     "output_type": "stream",
     "text": [
      " Number of times 3 present in tuple t1 is 4\n",
      " positon (index) of sachin in tuple t1 is 10\n"
     ]
    }
   ],
   "source": [
    "\"Example of Method 1 (count function)\"\n",
    "\n",
    "t1 = (1,3,3,3,4,5,6,45.45,45,3,'sachin','ram')\n",
    "\n",
    "# count function gives the number of particular element present in tuple\n",
    "print(\" Number of times {} present in tuple t1 is {}\".format(3,t1.count(3)))\n",
    "\n",
    "\"Example of Method 2 (index function)\"\n",
    "\n",
    "t1 = (1,3,3,3,4,5,6,45.45,45,3,'sachin','ram')\n",
    "\n",
    "# index function gives the index of particular element present in tuple\n",
    "print(\" positon (index) of {} in tuple t1 is {}\".format('sachin',t1.index('sachin')))"
   ]
  },
  {
   "attachments": {},
   "cell_type": "markdown",
   "metadata": {},
   "source": [
    "Q3. Which collection datatypes in python do not allow duplicate items? Write a code using a set to remove\n",
    "duplicates from the given list.\n",
    "\n",
    "List = [1, 1, 1, 2, 1, 3, 1, 4, 2, 1, 2, 2, 2, 3, 2, 4, 3, 1, 3, 2, 3, 3, 3, 4, 4, 1, 4, 2, 4, 3, 4, 4]"
   ]
  },
  {
   "cell_type": "code",
   "execution_count": 2,
   "metadata": {},
   "outputs": [
    {
     "data": {
      "text/plain": [
       "[1, 2, 3, 4]"
      ]
     },
     "execution_count": 2,
     "metadata": {},
     "output_type": "execute_result"
    }
   ],
   "source": [
    "# Answer -  set - does not allows to store duplicate items in it.\n",
    "\n",
    "List = [1, 1, 1, 2, 1, 3, 1, 4, 2, 1, 2, 2, 2, 3, 2, 4, 3, 1, 3, 2, 3, 3, 3, 4, 4, 1, 4, 2, 4, 3, 4, 4]\n",
    "\n",
    "# convert the list into set so it will remove the duplicate items from list.\n",
    "set_1 = set(List)\n",
    "\n",
    "# here convert the set into list again.\n",
    "List1 = list(set_1)\n",
    "List1"
   ]
  },
  {
   "attachments": {},
   "cell_type": "markdown",
   "metadata": {},
   "source": [
    "Q4. Explain the difference between the union() and update() methods for a set. Give an example of\n",
    "each method."
   ]
  },
  {
   "cell_type": "code",
   "execution_count": 3,
   "metadata": {},
   "outputs": [
    {
     "name": "stdout",
     "output_type": "stream",
     "text": [
      "Set produced from union method :  {'thu', 'mon', 'sat', 'fri', 'wed', 'sun', 'tue'}\n",
      "Before updating set day A {'tue', 'wed', 'mon'}\n",
      "After updating set dayA {'thu', 'mon', 'sat', 'fri', 'wed', 'sun', 'tue'}\n"
     ]
    }
   ],
   "source": [
    "'''ANSWER -\n",
    "\n",
    "UNION () - union operation on two set produces a new set containing all distinct element from both the sets.'''\n",
    "\n",
    "# Example -\n",
    "dayA = {'mon','tue','wed'}\n",
    "dayB = {'wed','thu','fri','sat','sun'}\n",
    "\n",
    "alldays =  dayA | dayB\n",
    "print(\"Set produced from union method : \",alldays)\n",
    "\n",
    "'''\n",
    "UPDATE () - adds all missing elements to the set on which it is called, it update the values in original set '''\n",
    "\n",
    "# Example -\n",
    "print(\"Before updating set day A\", dayA)\n",
    "dayA.update(dayB)\n",
    "print(\"After updating set dayA\", dayA)"
   ]
  },
  {
   "attachments": {},
   "cell_type": "markdown",
   "metadata": {},
   "source": [
    "Q5. What is a dictionary? Give an example. Also, state whether a dictionary is ordered or unordered."
   ]
  },
  {
   "cell_type": "code",
   "execution_count": 4,
   "metadata": {},
   "outputs": [
    {
     "data": {
      "text/plain": [
       "'v1'"
      ]
     },
     "execution_count": 4,
     "metadata": {},
     "output_type": "execute_result"
    }
   ],
   "source": [
    "'''\n",
    "Answer -\n",
    "dictionary - it is an unordered collection of key-value pairs.\n",
    "each pair maps the key to its value.\n",
    "indexing in a dictionary is done using these keys.\n",
    "'''\n",
    "\n",
    "dict = {\"k1\":\"v1\",'k2':\"v2\",\"k3\" :\"v3\",\"k4\":\"v4\"}\n",
    "\n",
    "# indexing is done in dictionary, value is accessed using its key.\n",
    "\n",
    "# dict[1]  =  gives ERROR\n",
    "dict['k1']"
   ]
  },
  {
   "attachments": {},
   "cell_type": "markdown",
   "metadata": {},
   "source": [
    "Q6. Can we create a nested dictionary? If so, please give an example by creating a simple one-level\n",
    "nested dictionary."
   ]
  },
  {
   "cell_type": "code",
   "execution_count": 5,
   "metadata": {},
   "outputs": [
    {
     "data": {
      "text/plain": [
       "'sachin'"
      ]
     },
     "execution_count": 5,
     "metadata": {},
     "output_type": "execute_result"
    }
   ],
   "source": [
    "'''Answer - \n",
    "    yes , we can create a nested dictionary '''\n",
    "\n",
    "\n",
    "# A dicitonary inside two key-value pair in which each key has a dictionary:\n",
    "\n",
    "dict = {\"student\": {\"name\":\"sachin\",\"location\" : \"mumbai\"},\"school\":{\"detail\":\"IET\",\"place\":\"rajasthan\"}}\n",
    "dict['student']['name']"
   ]
  },
  {
   "attachments": {},
   "cell_type": "markdown",
   "metadata": {},
   "source": [
    "Q7. Using setdefault() method, create key named topics in the given dictionary and also add the value of\n",
    "the key as this list ['Python', 'Machine Learning’, 'Deep Learning']\n",
    "\n",
    "dict1 = {'language' : 'Python', 'course': 'Data Science Masters'}"
   ]
  },
  {
   "cell_type": "code",
   "execution_count": 6,
   "metadata": {},
   "outputs": [
    {
     "name": "stdout",
     "output_type": "stream",
     "text": [
      "After adding the 'topics' key in the dictionary :\n",
      " {'language': 'Python', 'course': 'Data Science Masters', 'topics': ['Python', 'Machine Learning', 'Deep Learning']}\n"
     ]
    }
   ],
   "source": [
    "# SOLUTION -\n",
    "\n",
    "dict1 = {'language' : 'Python', 'course': 'Data Science Masters'}\n",
    "dict1.setdefault(\"topics\",['Python', 'Machine Learning', 'Deep Learning'])\n",
    "\n",
    "print(\"After adding the 'topics' key in the dictionary :\\n\", dict1)\n"
   ]
  },
  {
   "attachments": {},
   "cell_type": "markdown",
   "metadata": {},
   "source": [
    "Q8. What are the three view objects in dictionaries? Use the three in-built methods in python to display\n",
    "these three view objects for the given dictionary.\n",
    "\n",
    "dict1 = {'Sport': 'Cricket' , 'Teams': ['India', 'Australia', 'England', 'South Africa', 'Sri Lanka', 'New Zealand']}"
   ]
  },
  {
   "cell_type": "code",
   "execution_count": 7,
   "metadata": {},
   "outputs": [
    {
     "name": "stdout",
     "output_type": "stream",
     "text": [
      "keys of the given dictionary : dict_keys(['Sport', 'Teams'])\n",
      "\n",
      "value of all keys in given dictionary : dict_values(['Cricket', ['India', 'Australia', 'England', 'South Africa', 'Sri Lanka', 'New Zealand']])\n",
      "\n",
      "list of all key-value pair of dictionary : dict_items([('Sport', 'Cricket'), ('Teams', ['India', 'Australia', 'England', 'South Africa', 'Sri Lanka', 'New Zealand'])])\n"
     ]
    }
   ],
   "source": [
    "'''\n",
    "Answer -\n",
    "The main view objects of dictionary in python are keys, values and items.'''\n",
    "\n",
    "dict1 = {'Sport': 'Cricket' , 'Teams': ['India', 'Australia', 'England', 'South Africa', 'Sri Lanka', 'New Zealand']}\n",
    "\n",
    "# 1- keys()- it will give all the keys of the given dictionary.\n",
    "\n",
    "print(\"keys of the given dictionary :\",dict1.keys())\n",
    "\n",
    "# 2- values() - this function will print the value of all keys.\n",
    "\n",
    "print(\"\\nvalue of all keys in given dictionary :\", dict1.values()) \n",
    "\n",
    "# 3- items() -  this gives the list of all key-value pair list of given dictionary.\n",
    "\n",
    "print(\"\\nlist of all key-value pair of dictionary :\", dict1.items())"
   ]
  }
 ],
 "metadata": {
  "kernelspec": {
   "display_name": "base",
   "language": "python",
   "name": "python3"
  },
  "language_info": {
   "codemirror_mode": {
    "name": "ipython",
    "version": 3
   },
   "file_extension": ".py",
   "mimetype": "text/x-python",
   "name": "python",
   "nbconvert_exporter": "python",
   "pygments_lexer": "ipython3",
   "version": "3.10.8"
  },
  "orig_nbformat": 4
 },
 "nbformat": 4,
 "nbformat_minor": 2
}
